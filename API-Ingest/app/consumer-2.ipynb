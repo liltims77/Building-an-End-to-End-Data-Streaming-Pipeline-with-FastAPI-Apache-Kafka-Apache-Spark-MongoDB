{
 "cells": [
  {
   "cell_type": "code",
   "execution_count": null,
   "id": "0e9865ce",
   "metadata": {},
   "outputs": [
    {
     "name": "stdout",
     "output_type": "stream",
     "text": [
      "start consuming\n"
     ]
    }
   ],
   "source": [
    "from kafka import KafkaConsumer\n",
    "\n",
    "#consumer = KafkaConsumer()\n",
    "\n",
    "# define a consumer that waits for new messages\n",
    "def kafka_python_consumer():\n",
    "    \n",
    "    # Consumer using the topic name and setting a group id\n",
    "    consumer = KafkaConsumer('ingestion-topic-2', group_id='mypythonconsumer',bootstrap_servers='localhost:9093',)\n",
    "    for msg in consumer:\n",
    "      print(msg)\n",
    "\n",
    "print(\"start consuming\")\n",
    "\n",
    "# start the consumer\n",
    "kafka_python_consumer()\n",
    "\n",
    "print(\"done\")\n"
   ]
  },
  {
   "cell_type": "code",
   "execution_count": null,
   "id": "b66ed10d",
   "metadata": {},
   "outputs": [],
   "source": []
  }
 ],
 "metadata": {
  "kernelspec": {
   "display_name": "Python 3 (ipykernel)",
   "language": "python",
   "name": "python3"
  },
  "language_info": {
   "codemirror_mode": {
    "name": "ipython",
    "version": 3
   },
   "file_extension": ".py",
   "mimetype": "text/x-python",
   "name": "python",
   "nbconvert_exporter": "python",
   "pygments_lexer": "ipython3",
   "version": "3.10.6"
  }
 },
 "nbformat": 4,
 "nbformat_minor": 5
}
