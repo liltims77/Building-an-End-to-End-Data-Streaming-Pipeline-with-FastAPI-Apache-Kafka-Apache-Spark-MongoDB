{
 "cells": [
  {
   "cell_type": "code",
   "execution_count": 1,
   "id": "dec4272f",
   "metadata": {},
   "outputs": [],
   "source": [
    "import numpy as np"
   ]
  },
  {
   "cell_type": "code",
   "execution_count": 2,
   "id": "35ec0848",
   "metadata": {},
   "outputs": [],
   "source": [
    "from numpy import add"
   ]
  },
  {
   "cell_type": "code",
   "execution_count": 3,
   "id": "c0131de8",
   "metadata": {},
   "outputs": [],
   "source": [
    "import pandas as pd"
   ]
  },
  {
   "cell_type": "code",
   "execution_count": 4,
   "id": "49595e3f",
   "metadata": {},
   "outputs": [
    {
     "name": "stdout",
     "output_type": "stream",
     "text": [
      "\u001b[0m\u001b[01;32mUntitled.ipynb\u001b[0m*   \u001b[01;32mapi-client.py\u001b[0m*  \u001b[01;32mdata1.csv\u001b[0m*       \u001b[01;32myellow_tripdata_2023-01.csv\u001b[0m*\r\n",
      "\u001b[01;32mUntitled1.ipynb\u001b[0m*  \u001b[01;32mdata.csv\u001b[0m*       \u001b[01;32mtransformer.py\u001b[0m*\r\n"
     ]
    }
   ],
   "source": [
    "ls"
   ]
  },
  {
   "cell_type": "code",
   "execution_count": 5,
   "id": "4286a4c8",
   "metadata": {},
   "outputs": [],
   "source": [
    "df = pd.read_csv ('data1.csv')"
   ]
  },
  {
   "cell_type": "code",
   "execution_count": 6,
   "id": "34de4929",
   "metadata": {},
   "outputs": [
    {
     "name": "stdout",
     "output_type": "stream",
     "text": [
      "    InvoiceNo StockCode                          Description  Quantity  \\\n",
      "0      536365    85123A   WHITE HANGING HEART T-LIGHT HOLDER         6   \n",
      "1      536365     71053                  WHITE METAL LANTERN         6   \n",
      "2      536365    84406B       CREAM CUPID HEARTS COAT HANGER         8   \n",
      "3      536365    84029G  KNITTED UNION FLAG HOT WATER BOTTLE         6   \n",
      "4      536365    84029E       RED WOOLLY HOTTIE WHITE HEART.         6   \n",
      "..        ...       ...                                  ...       ...   \n",
      "94     536378     21559    STRAWBERRY LUNCH BOX WITH CUTLERY         6   \n",
      "95     536378     22352    LUNCH BOX WITH CUTLERY RETROSPOT          6   \n",
      "96     536378     21212      PACK OF 72 RETROSPOT CAKE CASES       120   \n",
      "97     536378     21975       PACK OF 60 DINOSAUR CAKE CASES        24   \n",
      "98     536378     21977   PACK OF 60 PINK PAISLEY CAKE CASES        24   \n",
      "\n",
      "       InvoiceDate  UnitPrice  CustomerID         Country  \n",
      "0   12/1/2010 8:26       2.55       17850  United Kingdom  \n",
      "1   12/1/2010 8:26       3.39       17850  United Kingdom  \n",
      "2   12/1/2010 8:26       2.75       17850  United Kingdom  \n",
      "3   12/1/2010 8:26       3.39       17850  United Kingdom  \n",
      "4   12/1/2010 8:26       3.39       17850  United Kingdom  \n",
      "..             ...        ...         ...             ...  \n",
      "94  12/1/2010 9:37       2.55       14688  United Kingdom  \n",
      "95  12/1/2010 9:37       2.55       14688  United Kingdom  \n",
      "96  12/1/2010 9:37       0.42       14688  United Kingdom  \n",
      "97  12/1/2010 9:37       0.55       14688  United Kingdom  \n",
      "98  12/1/2010 9:37       0.55       14688  United Kingdom  \n",
      "\n",
      "[99 rows x 8 columns]\n"
     ]
    }
   ],
   "source": [
    "print(df)"
   ]
  },
  {
   "cell_type": "code",
   "execution_count": 7,
   "id": "ceb01064",
   "metadata": {},
   "outputs": [],
   "source": [
    "df['json'] = df.to_json(orient='records', lines=True).splitlines()"
   ]
  },
  {
   "cell_type": "code",
   "execution_count": 8,
   "id": "b79499a3",
   "metadata": {},
   "outputs": [
    {
     "name": "stdout",
     "output_type": "stream",
     "text": [
      "    InvoiceNo StockCode                          Description  Quantity  \\\n",
      "0      536365    85123A   WHITE HANGING HEART T-LIGHT HOLDER         6   \n",
      "1      536365     71053                  WHITE METAL LANTERN         6   \n",
      "2      536365    84406B       CREAM CUPID HEARTS COAT HANGER         8   \n",
      "3      536365    84029G  KNITTED UNION FLAG HOT WATER BOTTLE         6   \n",
      "4      536365    84029E       RED WOOLLY HOTTIE WHITE HEART.         6   \n",
      "..        ...       ...                                  ...       ...   \n",
      "94     536378     21559    STRAWBERRY LUNCH BOX WITH CUTLERY         6   \n",
      "95     536378     22352    LUNCH BOX WITH CUTLERY RETROSPOT          6   \n",
      "96     536378     21212      PACK OF 72 RETROSPOT CAKE CASES       120   \n",
      "97     536378     21975       PACK OF 60 DINOSAUR CAKE CASES        24   \n",
      "98     536378     21977   PACK OF 60 PINK PAISLEY CAKE CASES        24   \n",
      "\n",
      "       InvoiceDate  UnitPrice  CustomerID         Country  \\\n",
      "0   12/1/2010 8:26       2.55       17850  United Kingdom   \n",
      "1   12/1/2010 8:26       3.39       17850  United Kingdom   \n",
      "2   12/1/2010 8:26       2.75       17850  United Kingdom   \n",
      "3   12/1/2010 8:26       3.39       17850  United Kingdom   \n",
      "4   12/1/2010 8:26       3.39       17850  United Kingdom   \n",
      "..             ...        ...         ...             ...   \n",
      "94  12/1/2010 9:37       2.55       14688  United Kingdom   \n",
      "95  12/1/2010 9:37       2.55       14688  United Kingdom   \n",
      "96  12/1/2010 9:37       0.42       14688  United Kingdom   \n",
      "97  12/1/2010 9:37       0.55       14688  United Kingdom   \n",
      "98  12/1/2010 9:37       0.55       14688  United Kingdom   \n",
      "\n",
      "                                                 json  \n",
      "0   {\"InvoiceNo\":536365,\"StockCode\":\"85123A\",\"Desc...  \n",
      "1   {\"InvoiceNo\":536365,\"StockCode\":\"71053\",\"Descr...  \n",
      "2   {\"InvoiceNo\":536365,\"StockCode\":\"84406B\",\"Desc...  \n",
      "3   {\"InvoiceNo\":536365,\"StockCode\":\"84029G\",\"Desc...  \n",
      "4   {\"InvoiceNo\":536365,\"StockCode\":\"84029E\",\"Desc...  \n",
      "..                                                ...  \n",
      "94  {\"InvoiceNo\":536378,\"StockCode\":\"21559\",\"Descr...  \n",
      "95  {\"InvoiceNo\":536378,\"StockCode\":\"22352\",\"Descr...  \n",
      "96  {\"InvoiceNo\":536378,\"StockCode\":\"21212\",\"Descr...  \n",
      "97  {\"InvoiceNo\":536378,\"StockCode\":\"21975\",\"Descr...  \n",
      "98  {\"InvoiceNo\":536378,\"StockCode\":\"21977\",\"Descr...  \n",
      "\n",
      "[99 rows x 9 columns]\n"
     ]
    }
   ],
   "source": [
    "print(df)"
   ]
  },
  {
   "cell_type": "code",
   "execution_count": 9,
   "id": "eb0d6e1f",
   "metadata": {},
   "outputs": [],
   "source": [
    "dfjson = df['json']"
   ]
  },
  {
   "cell_type": "code",
   "execution_count": 10,
   "id": "44009ca4",
   "metadata": {},
   "outputs": [
    {
     "name": "stdout",
     "output_type": "stream",
     "text": [
      "0     {\"InvoiceNo\":536365,\"StockCode\":\"85123A\",\"Desc...\n",
      "1     {\"InvoiceNo\":536365,\"StockCode\":\"71053\",\"Descr...\n",
      "2     {\"InvoiceNo\":536365,\"StockCode\":\"84406B\",\"Desc...\n",
      "3     {\"InvoiceNo\":536365,\"StockCode\":\"84029G\",\"Desc...\n",
      "4     {\"InvoiceNo\":536365,\"StockCode\":\"84029E\",\"Desc...\n",
      "                            ...                        \n",
      "94    {\"InvoiceNo\":536378,\"StockCode\":\"21559\",\"Descr...\n",
      "95    {\"InvoiceNo\":536378,\"StockCode\":\"22352\",\"Descr...\n",
      "96    {\"InvoiceNo\":536378,\"StockCode\":\"21212\",\"Descr...\n",
      "97    {\"InvoiceNo\":536378,\"StockCode\":\"21975\",\"Descr...\n",
      "98    {\"InvoiceNo\":536378,\"StockCode\":\"21977\",\"Descr...\n",
      "Name: json, Length: 99, dtype: object\n"
     ]
    }
   ],
   "source": [
    "print(dfjson)"
   ]
  },
  {
   "cell_type": "code",
   "execution_count": 11,
   "id": "966ca7da",
   "metadata": {},
   "outputs": [],
   "source": [
    "np.savetxt(r'./output.txt', dfjson.values, fmt='%s')"
   ]
  },
  {
   "cell_type": "code",
   "execution_count": null,
   "id": "e878705a",
   "metadata": {},
   "outputs": [],
   "source": []
  }
 ],
 "metadata": {
  "kernelspec": {
   "display_name": "Python 3 (ipykernel)",
   "language": "python",
   "name": "python3"
  },
  "language_info": {
   "codemirror_mode": {
    "name": "ipython",
    "version": 3
   },
   "file_extension": ".py",
   "mimetype": "text/x-python",
   "name": "python",
   "nbconvert_exporter": "python",
   "pygments_lexer": "ipython3",
   "version": "3.10.6"
  }
 },
 "nbformat": 4,
 "nbformat_minor": 5
}
