{
 "cells": [
  {
   "cell_type": "code",
   "execution_count": null,
   "id": "a065891c",
   "metadata": {},
   "outputs": [
    {
     "name": "stdout",
     "output_type": "stream",
     "text": [
      "Topic Name=ingestion-topic,Message=b''\n",
      "Topic Name=ingestion-topic,Message=b'{\"InvoiceNo\": 536365, \"StockCode\": \"85123A\", \"Description\": \"WHITE HANGING HEART T-LIGHT HOLDER\", \"Quantity\": 6, \"InvoiceDate\": \"12-02-2010 08:26:00\", \"UnitPrice\": 2.55, \"CustomerID\": 17850, \"Country\": \"United Kingdom\"}'\n",
      "Topic Name=ingestion-topic,Message=b'{\"InvoiceNo\": 536365, \"StockCode\": \"85123A\", \"Description\": \"WHITE HANGING HEART T-LIGHT HOLDER\", \"Quantity\": 6, \"InvoiceDate\": \"12-02-2010 08:26:00\", \"UnitPrice\": 2.55, \"CustomerID\": 17850, \"Country\": \"United Kingdom\"}'\n",
      "Topic Name=ingestion-topic,Message=b'second message...'\n",
      "Topic Name=ingestion-topic,Message=b'second message...'\n"
     ]
    }
   ],
   "source": [
    "from kafka import KafkaConsumer\n",
    "\n",
    "# Define server with port\n",
    "bootstrap_servers = ['localhost:9093']\n",
    "\n",
    "# Define topic name from where the message will recieve\n",
    "topicName = 'ingestion-topic'\n",
    "\n",
    "# Initialize consumer variable\n",
    "consumer = KafkaConsumer (topicName , auto_offset_reset='earliest', bootstrap_servers = bootstrap_servers)\n",
    "\n",
    "# Read and print message from consumer\n",
    "for msg in consumer:\n",
    "    print(\"Topic Name=%s,Message=%s\"%(msg.topic,msg.value))"
   ]
  },
  {
   "cell_type": "code",
   "execution_count": null,
   "id": "2db12f24",
   "metadata": {},
   "outputs": [],
   "source": []
  },
  {
   "cell_type": "code",
   "execution_count": null,
   "id": "58e213ab",
   "metadata": {},
   "outputs": [],
   "source": []
  }
 ],
 "metadata": {
  "kernelspec": {
   "display_name": "Python 3 (ipykernel)",
   "language": "python",
   "name": "python3"
  },
  "language_info": {
   "codemirror_mode": {
    "name": "ipython",
    "version": 3
   },
   "file_extension": ".py",
   "mimetype": "text/x-python",
   "name": "python",
   "nbconvert_exporter": "python",
   "pygments_lexer": "ipython3",
   "version": "3.10.6"
  }
 },
 "nbformat": 4,
 "nbformat_minor": 5
}
