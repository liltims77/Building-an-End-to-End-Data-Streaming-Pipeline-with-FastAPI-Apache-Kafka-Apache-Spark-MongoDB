{
 "cells": [
  {
   "cell_type": "code",
   "execution_count": 1,
   "id": "5da799ef",
   "metadata": {},
   "outputs": [],
   "source": [
    "import linecache"
   ]
  },
  {
   "cell_type": "code",
   "execution_count": 2,
   "id": "f76f6048",
   "metadata": {},
   "outputs": [],
   "source": [
    "import json"
   ]
  },
  {
   "cell_type": "code",
   "execution_count": 3,
   "id": "c0034e73",
   "metadata": {},
   "outputs": [],
   "source": [
    "import requests "
   ]
  },
  {
   "cell_type": "code",
   "execution_count": 4,
   "id": "79ad66a8",
   "metadata": {},
   "outputs": [],
   "source": [
    "start = 1\n",
    "end = 50"
   ]
  },
  {
   "cell_type": "code",
   "execution_count": 5,
   "id": "9502d17b",
   "metadata": {},
   "outputs": [],
   "source": [
    "i = start\n"
   ]
  },
  {
   "cell_type": "code",
   "execution_count": 8,
   "id": "6079d831",
   "metadata": {},
   "outputs": [
    {
     "ename": "SyntaxError",
     "evalue": "invalid syntax (645232251.py, line 15)",
     "output_type": "error",
     "traceback": [
      "\u001b[0;36m  File \u001b[0;32m\"/tmp/ipykernel_412/645232251.py\"\u001b[0;36m, line \u001b[0;32m15\u001b[0m\n\u001b[0;31m    printwhile i <= end:\u001b[0m\n\u001b[0m               ^\u001b[0m\n\u001b[0;31mSyntaxError\u001b[0m\u001b[0;31m:\u001b[0m invalid syntax\n"
     ]
    }
   ],
   "source": [
    "start = 1\n",
    "end = 50\n",
    "\n",
    "i = start\n",
    "\n",
    "while i <= end:\n",
    "    # Read a specific line from the CSV file\n",
    "    try:\n",
    "        line = linecache.getline('data.csv', i)\n",
    "        myjson = json.loads(line)\n",
    "    except FileNotFoundError:\n",
    "        print(f\"File 'data.csv' not found.\")\n",
    "        break\n",
    "    except json.JSONDecodeError:\n",
    "        printwhile i <= end:     \n",
    "    \n",
    "    # read a specific line\n",
    "    line = linecache.getline('./output.txt', i)\n",
    "    #print(line)\n",
    "    # write the line to the API\n",
    "    myjson = json.loads(line)\n",
    "    \n",
    "    print(myjson)\n",
    "    \n",
    "    response = requests.post('http://localhost:80/invoiceitem', json=myjson)\n",
    "\n",
    "    # Use this for dedbugging\n",
    "    #print(\"Status code: \", response.status_code)\n",
    "    #print(\"Printing Entire Post Request\")\n",
    "    print(response.json())\n",
    "\n",
    "    # increase i\n",
    "    i+=1"
   ]
  },
  {
   "cell_type": "code",
   "execution_count": null,
   "id": "fd564b49",
   "metadata": {},
   "outputs": [],
   "source": []
  }
 ],
 "metadata": {
  "kernelspec": {
   "display_name": "Python 3 (ipykernel)",
   "language": "python",
   "name": "python3"
  },
  "language_info": {
   "codemirror_mode": {
    "name": "ipython",
    "version": 3
   },
   "file_extension": ".py",
   "mimetype": "text/x-python",
   "name": "python",
   "nbconvert_exporter": "python",
   "pygments_lexer": "ipython3",
   "version": "3.10.6"
  }
 },
 "nbformat": 4,
 "nbformat_minor": 5
}
