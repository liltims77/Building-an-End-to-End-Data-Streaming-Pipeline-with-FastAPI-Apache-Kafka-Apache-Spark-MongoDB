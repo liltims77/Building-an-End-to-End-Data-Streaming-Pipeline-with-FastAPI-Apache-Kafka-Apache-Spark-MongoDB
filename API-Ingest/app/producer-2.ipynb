{
 "cells": [
  {
   "cell_type": "code",
   "execution_count": 2,
   "id": "f149af4e",
   "metadata": {},
   "outputs": [
    {
     "name": "stdout",
     "output_type": "stream",
     "text": [
      "Message sent\n"
     ]
    }
   ],
   "source": [
    "from kafka import KafkaProducer\n",
    "\n",
    "def produce_kafka_string(json_as_string):\n",
    "    # Create producer\n",
    "    producer = KafkaProducer(bootstrap_servers='localhost:9093', acks=1)  # Use port 9092 for the Kafka broker\n",
    "    \n",
    "    topicName = 'ingestion-topic-2'\n",
    "    \n",
    "    # Write the string as bytes because Kafka needs it this way\n",
    "    producer.send('ingestion-topic-2', bytes(json_as_string, 'utf-8'))\n",
    "    producer.flush()  # Make sure to flush the producer to ensure the message is sent\n",
    "    print(\"Message sent\")\n",
    "\n",
    "# Example usage\n",
    "json_string = '{\"key\": \"value\"}'\n",
    "produce_kafka_string(json_string)\n"
   ]
  },
  {
   "cell_type": "code",
   "execution_count": null,
   "id": "97078cae",
   "metadata": {},
   "outputs": [],
   "source": []
  }
 ],
 "metadata": {
  "kernelspec": {
   "display_name": "Python 3 (ipykernel)",
   "language": "python",
   "name": "python3"
  },
  "language_info": {
   "codemirror_mode": {
    "name": "ipython",
    "version": 3
   },
   "file_extension": ".py",
   "mimetype": "text/x-python",
   "name": "python",
   "nbconvert_exporter": "python",
   "pygments_lexer": "ipython3",
   "version": "3.10.6"
  }
 },
 "nbformat": 4,
 "nbformat_minor": 5
}
